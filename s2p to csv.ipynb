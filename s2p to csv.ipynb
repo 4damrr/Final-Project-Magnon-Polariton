{
 "cells": [
  {
   "cell_type": "code",
   "execution_count": 1,
   "metadata": {},
   "outputs": [],
   "source": [
    "##import package\n",
    "import os\n",
    "import pandas as pd\n",
    "import numpy as np\n",
    "import matplotlib.pyplot as plt\n",
    "import matplotlib\n",
    "import skrf as rf"
   ]
  },
  {
   "cell_type": "code",
   "execution_count": 11,
   "metadata": {},
   "outputs": [
    {
     "name": "stdout",
     "output_type": "stream",
     "text": [
      "['a (01).s2p', 'a (02).s2p', 'a (03).s2p', 'a (04).s2p', 'a (05).s2p', 'a (06).s2p', 'a (07).s2p', 'a (08).s2p', 'a (09).s2p', 'a (10).s2p', 'a (11).s2p', 'a (12).s2p', 'a (13).s2p', 'a (14).s2p', 'a (15).s2p', 'a (16).s2p', 'a (17).s2p', 'a (18).s2p', 'a (19).s2p', 'a (20).s2p', 'a (21).s2p', 'a (22).s2p', 'a (23).s2p', 'a (24).s2p', 'a (25).s2p', 'a (26).s2p', 'a (27).s2p', 'a (28).s2p', 'a (29).s2p', 'a (30).s2p', 'a (31).s2p', 'a (32).s2p', 'a (33).s2p', 'a (34).s2p', 'a (35).s2p', 'a (36).s2p', 'a (37).s2p', 'a (38).s2p', 'a (39).s2p', 'a (40).s2p', 'a (41).s2p', 'a (42).s2p', 'a (43).s2p', 'a (44).s2p', 'a (45).s2p', 'a (46).s2p', 'a (47).s2p', 'a (48).s2p', 'a (49).s2p', 'a (50).s2p', 'a (51).s2p', 'b (30).s2p', 'b (31).s2p', 'b (32).s2p', 'b (33).s2p', 'b (34).s2p', 'b (35).s2p', 'b (36).s2p', 'b (37).s2p', 'b (38).s2p', 'b (39).s2p', 'b (40).s2p', 'b (41).s2p', 'b (42).s2p', 'b (43).s2p', 'b (44).s2p', 'b (45).s2p', 'b (46).s2p', 'b (47).s2p', 'b (48).s2p', 'b (49).s2p', 'b (50).s2p', 'b (51).s2p', 'S21.csv', 'S21_2.csv', 's2p to csv.ipynb']\n"
     ]
    }
   ],
   "source": [
    "##List file .s2p\n",
    "# folder path\n",
    "dir_path = r'D:\\itebe\\FISIKA\\Thesis, moga cepet lulus aamiin\\Pengukuran\\20230120\\convert to csv'\n",
    "\n",
    "# list to store files\n",
    "res = []\n",
    "\n",
    "# Iterate directory\n",
    "for path in os.listdir(dir_path):\n",
    "    # check if current path is a file\n",
    "    if os.path.isfile(os.path.join(dir_path, path)):\n",
    "        res.append(path)\n",
    "print(res)"
   ]
  },
  {
   "cell_type": "code",
   "execution_count": 13,
   "metadata": {},
   "outputs": [],
   "source": [
    "for i in range(len(res)-3):\n",
    "    ##membuat file baru\n",
    "    read = rf.Network(res[i])\n",
    "    #masukin frekuensi\n",
    "    freq = pd.DataFrame(read.f)\n",
    "    freq['S21']= pd.DataFrame(read.s_db[:,0][:,1])\n",
    "    freq.to_csv('S21.csv', mode='w', index=False, header=True)\n",
    "    \n",
    "    #nama baru\n",
    "    new_name='S21_'+str(i)+'.csv'\n",
    "    os.rename('S21.csv', new_name)\n",
    "#masukin s-parameter\n",
    "#s = pd.DataFrame(read.s_db[:,0][:,1])\n",
    "#pd.read_csv('S21.csv')[1]=s"
   ]
  },
  {
   "cell_type": "code",
   "execution_count": 3,
   "metadata": {},
   "outputs": [
    {
     "name": "stdout",
     "output_type": "stream",
     "text": [
      "C:/Users/Lenovo/Downloads/test/3.csv\n",
      "C:/Users/Lenovo/Downloads/test/4.csv\n",
      "C:/Users/Lenovo/Downloads/test/5.csv\n",
      "C:/Users/Lenovo/Downloads/test/6.csv\n",
      "C:/Users/Lenovo/Downloads/test/7.csv\n",
      "C:/Users/Lenovo/Downloads/test/8.csv\n",
      "C:/Users/Lenovo/Downloads/test/9.csv\n",
      "C:/Users/Lenovo/Downloads/test/10.csv\n",
      "C:/Users/Lenovo/Downloads/test/11.csv\n",
      "C:/Users/Lenovo/Downloads/test/12.csv\n",
      "C:/Users/Lenovo/Downloads/test/13.csv\n",
      "C:/Users/Lenovo/Downloads/test/14.csv\n",
      "C:/Users/Lenovo/Downloads/test/15.csv\n",
      "C:/Users/Lenovo/Downloads/test/16.csv\n",
      "C:/Users/Lenovo/Downloads/test/17.csv\n",
      "C:/Users/Lenovo/Downloads/test/18.csv\n",
      "C:/Users/Lenovo/Downloads/test/19.csv\n",
      "C:/Users/Lenovo/Downloads/test/20.csv\n",
      "C:/Users/Lenovo/Downloads/test/21.csv\n",
      "C:/Users/Lenovo/Downloads/test/22.csv\n",
      "C:/Users/Lenovo/Downloads/test/23.csv\n",
      "C:/Users/Lenovo/Downloads/test/24.csv\n",
      "C:/Users/Lenovo/Downloads/test/25.csv\n",
      "C:/Users/Lenovo/Downloads/test/26.csv\n",
      "C:/Users/Lenovo/Downloads/test/27.csv\n",
      "C:/Users/Lenovo/Downloads/test/28.csv\n",
      "C:/Users/Lenovo/Downloads/test/29.csv\n",
      "C:/Users/Lenovo/Downloads/test/30.csv\n",
      "C:/Users/Lenovo/Downloads/test/31.csv\n",
      "C:/Users/Lenovo/Downloads/test/32.csv\n",
      "C:/Users/Lenovo/Downloads/test/33.csv\n",
      "C:/Users/Lenovo/Downloads/test/34.csv\n",
      "C:/Users/Lenovo/Downloads/test/35.csv\n",
      "C:/Users/Lenovo/Downloads/test/36.csv\n",
      "C:/Users/Lenovo/Downloads/test/37.csv\n",
      "C:/Users/Lenovo/Downloads/test/38.csv\n",
      "C:/Users/Lenovo/Downloads/test/39.csv\n",
      "C:/Users/Lenovo/Downloads/test/40.csv\n",
      "C:/Users/Lenovo/Downloads/test/41.csv\n",
      "C:/Users/Lenovo/Downloads/test/42.csv\n",
      "C:/Users/Lenovo/Downloads/test/43.csv\n",
      "C:/Users/Lenovo/Downloads/test/44.csv\n",
      "C:/Users/Lenovo/Downloads/test/45.csv\n",
      "C:/Users/Lenovo/Downloads/test/46.csv\n",
      "C:/Users/Lenovo/Downloads/test/47.csv\n",
      "C:/Users/Lenovo/Downloads/test/48.csv\n",
      "C:/Users/Lenovo/Downloads/test/49.csv\n",
      "C:/Users/Lenovo/Downloads/test/50.csv\n",
      "C:/Users/Lenovo/Downloads/test/51.csv\n",
      "C:/Users/Lenovo/Downloads/test/52.csv\n",
      "C:/Users/Lenovo/Downloads/test/53.csv\n",
      "C:/Users/Lenovo/Downloads/test/54.csv\n",
      "C:/Users/Lenovo/Downloads/test/55.csv\n",
      "C:/Users/Lenovo/Downloads/test/56.csv\n",
      "C:/Users/Lenovo/Downloads/test/57.csv\n",
      "C:/Users/Lenovo/Downloads/test/58.csv\n",
      "C:/Users/Lenovo/Downloads/test/59.csv\n"
     ]
    }
   ],
   "source": [
    "for i in range(3, 60, 1):\n",
    "    print(\n",
    "    \"C:/Users/Lenovo/Downloads/test/\"+str(i)+\".csv\")"
   ]
  }
 ],
 "metadata": {
  "kernelspec": {
   "display_name": "Python 3 (ipykernel)",
   "language": "python",
   "name": "python3"
  },
  "language_info": {
   "codemirror_mode": {
    "name": "ipython",
    "version": 3
   },
   "file_extension": ".py",
   "mimetype": "text/x-python",
   "name": "python",
   "nbconvert_exporter": "python",
   "pygments_lexer": "ipython3",
   "version": "3.7.0b4"
  }
 },
 "nbformat": 4,
 "nbformat_minor": 2
}
